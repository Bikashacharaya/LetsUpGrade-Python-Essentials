{
 "cells": [
  {
   "cell_type": "markdown",
   "metadata": {},
   "source": [
    "# PyLint"
   ]
  },
  {
   "cell_type": "code",
   "execution_count": 11,
   "metadata": {},
   "outputs": [
    {
     "name": "stdout",
     "output_type": "stream",
     "text": [
      "Overwriting prime.py\n"
     ]
    }
   ],
   "source": [
    "\n",
    "%%writefile prime.py\n",
    "\n",
    "'''\n",
    "Creating a python file for finding whethere the given number is prime number or not.\n",
    "'''\n",
    "\n",
    "def is_prime(given_no):\n",
    "    '''\n",
    "    function to check for prime number.\n",
    "    '''\n",
    "    if given_no >= 1:\n",
    "        for i in range(2, given_no):\n",
    "            if (given_no % i) == 0:\n",
    "                final_result = \"Not Prime\"\n",
    "            else:\n",
    "                final_result = \"Prime\"\n",
    "    else:\n",
    "        final_result = \"Not Prime\"\n",
    "    return final_result"
   ]
  },
  {
   "cell_type": "code",
   "execution_count": 12,
   "metadata": {},
   "outputs": [
    {
     "name": "stdout",
     "output_type": "stream",
     "text": [
      "\n",
      "-------------------------------------------------------------------\n",
      "\n",
      "Your code has been rated at 10.00/10 (previous run: 6.25/10, +3.75)\n",
      "\n",
      "\n",
      "\n"
     ]
    }
   ],
   "source": [
    "!pylint \"prime.py\""
   ]
  },
  {
   "cell_type": "markdown",
   "metadata": {},
   "source": [
    "# Unit-Testing"
   ]
  },
  {
   "cell_type": "code",
   "execution_count": 3,
   "metadata": {},
   "outputs": [
    {
     "name": "stdout",
     "output_type": "stream",
     "text": [
      "Writing primeUnitTest.py\n"
     ]
    }
   ],
   "source": [
    "%%writefile primeUnitTest.py\n",
    "\n",
    "import unittest\n",
    "import prime\n",
    "\n",
    "class testPrime(unittest.TestCase):\n",
    "    def testSinglePrime(self):\n",
    "        a = 3\n",
    "        result = prime.is_prime(a)\n",
    "        self.assertEquals(result, \"Prime\")\n",
    "        \n",
    "    def testingDoublePrime(self):\n",
    "        b = 11 \n",
    "        result = prime.is_prime(b)\n",
    "        self.assertEquals(result, \"Prime\")\n",
    "\n",
    "if __name__ == \"__main__\":\n",
    "    unittest.main()"
   ]
  },
  {
   "cell_type": "code",
   "execution_count": 4,
   "metadata": {},
   "outputs": [
    {
     "name": "stderr",
     "output_type": "stream",
     "text": [
      "primeUnitTest.py:9: DeprecationWarning: Please use assertEqual instead.\n",
      "  self.assertEquals(result, \"Prime\")\n",
      "..\n",
      "----------------------------------------------------------------------\n",
      "Ran 2 tests in 0.001s\n",
      "\n",
      "OK\n"
     ]
    }
   ],
   "source": [
    "! python \"primeUnitTest.py\"\n"
   ]
  },
  {
   "cell_type": "code",
   "execution_count": null,
   "metadata": {},
   "outputs": [],
   "source": []
  },
  {
   "cell_type": "code",
   "execution_count": null,
   "metadata": {},
   "outputs": [],
   "source": []
  },
  {
   "cell_type": "code",
   "execution_count": null,
   "metadata": {},
   "outputs": [],
   "source": []
  },
  {
   "cell_type": "code",
   "execution_count": null,
   "metadata": {},
   "outputs": [],
   "source": []
  },
  {
   "cell_type": "markdown",
   "metadata": {},
   "source": [
    "# Make a small generator program for returning armstrong numbers in between 1-1000 in a generator object.¶\n"
   ]
  },
  {
   "cell_type": "code",
   "execution_count": 62,
   "metadata": {},
   "outputs": [],
   "source": [
    "\n",
    "def armstrong(num):\n",
    "    for x in range(1,num):\n",
    "        if x>10:\n",
    "            order = len(str(x))\n",
    "            sum = 0\n",
    "\n",
    "            temp = x\n",
    "            while temp > 0:\n",
    "                digit = temp % 10\n",
    "                sum += digit ** order\n",
    "                temp //= 10\n",
    "\n",
    "            if x == sum:\n",
    "                yield print(\"The First Armstrong Nubmer is : \", x)\n"
   ]
  },
  {
   "cell_type": "code",
   "execution_count": 63,
   "metadata": {},
   "outputs": [
    {
     "name": "stdout",
     "output_type": "stream",
     "text": [
      "The First Armstrong Nubmer is :  153\n",
      "The First Armstrong Nubmer is :  370\n",
      "The First Armstrong Nubmer is :  371\n",
      "The First Armstrong Nubmer is :  407\n"
     ]
    }
   ],
   "source": [
    "lst = list(armstrong(1000))"
   ]
  },
  {
   "cell_type": "code",
   "execution_count": null,
   "metadata": {},
   "outputs": [],
   "source": []
  }
 ],
 "metadata": {
  "kernelspec": {
   "display_name": "Python 3",
   "language": "python",
   "name": "python3"
  },
  "language_info": {
   "codemirror_mode": {
    "name": "ipython",
    "version": 3
   },
   "file_extension": ".py",
   "mimetype": "text/x-python",
   "name": "python",
   "nbconvert_exporter": "python",
   "pygments_lexer": "ipython3",
   "version": "3.7.6"
  }
 },
 "nbformat": 4,
 "nbformat_minor": 4
}
