{
 "cells": [
  {
   "cell_type": "code",
   "execution_count": 1,
   "metadata": {},
   "outputs": [],
   "source": [
    "import math "
   ]
  },
  {
   "cell_type": "code",
   "execution_count": 23,
   "metadata": {},
   "outputs": [],
   "source": [
    "class cone():\n",
    "    def __init__(self,radius,height):\n",
    "        self.radius=radius\n",
    "        self.height=height\n",
    "        \n",
    "    def volume(self):\n",
    "        print(\"Radius-of-cone :\",self.radius)\n",
    "        print(\"Height-of-cone :\",self.height)\n",
    "        print(\"Volume-of-cone :\",(self.height/3))\n",
    "        \n",
    "    def surfacearea(self):\n",
    "        print(\"Radius-of-cone :\",self.radius)\n",
    "        print(\"Height-of-cone :\",self.height)\n",
    "        print(\"Surface-Area-of-cone : Base :\", 3.14*self.radius**2)\n",
    "        print(\"Surface-Area-of-cone : Side :\",3.14*self.radius*math.sqrt(self.radius**2+self.height**2))\n",
    "        "
   ]
  },
  {
   "cell_type": "markdown",
   "metadata": {},
   "source": [
    "# To find volume "
   ]
  },
  {
   "cell_type": "code",
   "execution_count": 25,
   "metadata": {},
   "outputs": [],
   "source": [
    "a=cone(3,4)"
   ]
  },
  {
   "cell_type": "code",
   "execution_count": 26,
   "metadata": {},
   "outputs": [
    {
     "name": "stdout",
     "output_type": "stream",
     "text": [
      "Radius-of-cone : 3\n",
      "Height-of-cone : 4\n",
      "Volume-of-cone : 1.3333333333333333\n"
     ]
    }
   ],
   "source": [
    "a.volume()"
   ]
  },
  {
   "cell_type": "markdown",
   "metadata": {},
   "source": [
    "# To find SurfaceArea"
   ]
  },
  {
   "cell_type": "code",
   "execution_count": 27,
   "metadata": {},
   "outputs": [
    {
     "name": "stdout",
     "output_type": "stream",
     "text": [
      "Radius-of-cone : 3\n",
      "Height-of-cone : 4\n",
      "Surface-Area-of-cone : Base : 28.26\n",
      "Surface-Area-of-cone : Side : 47.1\n"
     ]
    }
   ],
   "source": [
    "a.surfacearea()"
   ]
  },
  {
   "cell_type": "code",
   "execution_count": null,
   "metadata": {},
   "outputs": [],
   "source": []
  }
 ],
 "metadata": {
  "kernelspec": {
   "display_name": "Python 3",
   "language": "python",
   "name": "python3"
  },
  "language_info": {
   "codemirror_mode": {
    "name": "ipython",
    "version": 3
   },
   "file_extension": ".py",
   "mimetype": "text/x-python",
   "name": "python",
   "nbconvert_exporter": "python",
   "pygments_lexer": "ipython3",
   "version": "3.7.6"
  }
 },
 "nbformat": 4,
 "nbformat_minor": 4
}
