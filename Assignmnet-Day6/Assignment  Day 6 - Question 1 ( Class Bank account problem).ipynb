{
 "cells": [
  {
   "cell_type": "code",
   "execution_count": 52,
   "metadata": {},
   "outputs": [],
   "source": [
    "class Bankaccount():\n",
    "    def __init__(self,ownerName,Balance):\n",
    "        self.ownerName=ownerName\n",
    "        self.Balance=Balance\n",
    "        \n",
    "    def deposite(self):\n",
    "         print(\"---Welcome To Bikash Devekopment Bank ---\")\n",
    "         print(\"Deposite-by : \", self.ownerName)\n",
    "         print(\"Total-Balance : \", self.Balance) \n",
    "         print(\"--- Thanks for visiting us :)  ---\")\n",
    "          \n",
    "        \n",
    "        \n",
    "        \n",
    "    def withdraw(self):\n",
    "         print(\"---Welcome To Bikash Devekopment Bank ---\")         \n",
    "         print(\"Withdraw-by :  \", self.ownerName)\n",
    "         print(\"Total-Balance : \", self.Balance) \n",
    "         print(\"--- Thanks for visiting us :)  ---\")   \n",
    "        \n",
    "        "
   ]
  },
  {
   "cell_type": "markdown",
   "metadata": {},
   "source": [
    "# For deposite purpose !!"
   ]
  },
  {
   "cell_type": "code",
   "execution_count": 53,
   "metadata": {},
   "outputs": [],
   "source": [
    "a = Bankaccount(\"Max\",5000)"
   ]
  },
  {
   "cell_type": "code",
   "execution_count": 54,
   "metadata": {},
   "outputs": [
    {
     "name": "stdout",
     "output_type": "stream",
     "text": [
      "---Welcome To Bikash Devekopment Bank ---\n",
      "Deposite-by :  Max\n",
      "Total-Balance :  5000\n",
      "--- Thanks for visiting us :)  ---\n"
     ]
    }
   ],
   "source": [
    "a.deposite()"
   ]
  },
  {
   "cell_type": "code",
   "execution_count": 55,
   "metadata": {},
   "outputs": [],
   "source": [
    "b = Bankaccount(\"John\",7000)"
   ]
  },
  {
   "cell_type": "code",
   "execution_count": 56,
   "metadata": {},
   "outputs": [
    {
     "name": "stdout",
     "output_type": "stream",
     "text": [
      "---Welcome To Bikash Devekopment Bank ---\n",
      "Deposite-by :  John\n",
      "Total-Balance :  7000\n",
      "--- Thanks for visiting us :)  ---\n"
     ]
    }
   ],
   "source": [
    "b.deposite()"
   ]
  },
  {
   "cell_type": "markdown",
   "metadata": {},
   "source": [
    "# For withdraw purpose !!!"
   ]
  },
  {
   "cell_type": "code",
   "execution_count": 58,
   "metadata": {},
   "outputs": [],
   "source": [
    "c= Bankaccount(\"Max\",2000)"
   ]
  },
  {
   "cell_type": "code",
   "execution_count": 59,
   "metadata": {},
   "outputs": [
    {
     "name": "stdout",
     "output_type": "stream",
     "text": [
      "---Welcome To Bikash Devekopment Bank ---\n",
      "Withdraw-by :   Max\n",
      "Total-Balance :  2000\n",
      "--- Thanks for visiting us :)  ---\n"
     ]
    }
   ],
   "source": [
    "c.withdraw()"
   ]
  },
  {
   "cell_type": "code",
   "execution_count": 60,
   "metadata": {},
   "outputs": [],
   "source": [
    "d= Bankaccount(\"John\",2000)"
   ]
  },
  {
   "cell_type": "code",
   "execution_count": 61,
   "metadata": {},
   "outputs": [
    {
     "name": "stdout",
     "output_type": "stream",
     "text": [
      "---Welcome To Bikash Devekopment Bank ---\n",
      "Withdraw-by :   John\n",
      "Total-Balance :  2000\n",
      "--- Thanks for visiting us :)  ---\n"
     ]
    }
   ],
   "source": [
    "d.withdraw()"
   ]
  },
  {
   "cell_type": "code",
   "execution_count": null,
   "metadata": {},
   "outputs": [],
   "source": []
  }
 ],
 "metadata": {
  "kernelspec": {
   "display_name": "Python 3",
   "language": "python",
   "name": "python3"
  },
  "language_info": {
   "codemirror_mode": {
    "name": "ipython",
    "version": 3
   },
   "file_extension": ".py",
   "mimetype": "text/x-python",
   "name": "python",
   "nbconvert_exporter": "python",
   "pygments_lexer": "ipython3",
   "version": "3.7.6"
  }
 },
 "nbformat": 4,
 "nbformat_minor": 4
}
