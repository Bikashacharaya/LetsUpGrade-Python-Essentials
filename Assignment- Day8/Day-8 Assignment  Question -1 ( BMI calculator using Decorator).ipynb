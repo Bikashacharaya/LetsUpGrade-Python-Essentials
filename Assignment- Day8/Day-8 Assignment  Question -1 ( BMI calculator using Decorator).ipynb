{
 "cells": [
  {
   "cell_type": "markdown",
   "metadata": {},
   "source": [
    "# BMI Calculator using Decorators"
   ]
  },
  {
   "cell_type": "markdown",
   "metadata": {},
   "source": [
    "Overview :\n",
    "User need to enter specify detail as per requirement (Name,Address,Age,Height in ft,Weight in kg)\n",
    "\n",
    "Process:\n",
    "   1. Height in ft will converted into meter \n",
    "    \n",
    "   2. BMI will calculate: (weight/meter**2)\n",
    "    \n",
    "   3. It will generated Report Classification as per BMI of user i.e. user is Under Weight, Normal, Over Weight etc  \n",
    "\n",
    "\n",
    "\n",
    "\n",
    "\n",
    "\n",
    "    "
   ]
  },
  {
   "cell_type": "code",
   "execution_count": 11,
   "metadata": {},
   "outputs": [],
   "source": [
    "def user(calculate_bmi_fun):\n",
    "\n",
    "\n",
    "    def entry():\n",
    "        print(\"--Welcome to BMI calculator--\")\n",
    "        name=input(\"Enter your Name :\")\n",
    "        add=input(\"Enter your Address :\")\n",
    "        age=int(input(\"Enter your Age :\"))\n",
    "        height=float(input(\"Enter your Height in ft :\"))\n",
    "        weight=float(input(\"Enter your Weight in Kg :\"))\n",
    "        height_into_meter=(height/10)*3\n",
    "        bmi=int(((weight/(height_into_meter**2))))\n",
    "       \n",
    "        calculate_bmi_fun(name,add,age,height,weight,height_into_meter,bmi)\n",
    "        \n",
    "        if bmi<=19:\n",
    "            print(\"Report Classification: Under Weight\")\n",
    "\n",
    "        elif bmi in range(20,25):\n",
    "            print(\"Report Classification : Normal\", ) \n",
    "\n",
    "        elif bmi in range(25,30):\n",
    "            print(\"Report Classification : Over Weight\")\n",
    "\n",
    "        elif bmi in range(30,35):\n",
    "            print(\"Report Classification : Obesity Class I\")\n",
    "\n",
    "        elif bmi in range(35,40):\n",
    "            print(\"Report Classification : Obesity Class II\")\n",
    "\n",
    "        elif bmi >= 40:\n",
    "            print(\"Report Classification : Extreme Obesity\")\n",
    "\n",
    "        else:\n",
    "            print(\"You are not Healthy !! \")\n",
    "\n",
    "        print(\"-Thankyou Stay Healthy :)-\")\n",
    "    return entry\n"
   ]
  },
  {
   "cell_type": "code",
   "execution_count": 12,
   "metadata": {},
   "outputs": [],
   "source": [
    "@user\n",
    "def bmi(name,add,age,height,weight,height_into_meter,bmi):\n",
    "    print(\"Hello, {}\\n Age : {}\\n Adresss : {} \\n Weight : {}kg \\n Height : {}ft \\n Total Body Mass Index : {}  \".format(name,age,add,weight,height,bmi))\n"
   ]
  },
  {
   "cell_type": "code",
   "execution_count": null,
   "metadata": {},
   "outputs": [
    {
     "name": "stdout",
     "output_type": "stream",
     "text": [
      "--Welcome to BMI calculator--\n"
     ]
    }
   ],
   "source": [
    "bmi()"
   ]
  },
  {
   "cell_type": "code",
   "execution_count": null,
   "metadata": {},
   "outputs": [],
   "source": []
  }
 ],
 "metadata": {
  "kernelspec": {
   "display_name": "Python 3",
   "language": "python",
   "name": "python3"
  },
  "language_info": {
   "codemirror_mode": {
    "name": "ipython",
    "version": 3
   },
   "file_extension": ".py",
   "mimetype": "text/x-python",
   "name": "python",
   "nbconvert_exporter": "python",
   "pygments_lexer": "ipython3",
   "version": "3.7.6"
  }
 },
 "nbformat": 4,
 "nbformat_minor": 4
}
